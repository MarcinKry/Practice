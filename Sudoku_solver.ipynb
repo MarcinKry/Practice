{
 "cells": [
  {
   "cell_type": "code",
   "execution_count": 1,
   "metadata": {},
   "outputs": [
    {
     "data": {
      "text/plain": [
       "False"
      ]
     },
     "execution_count": 1,
     "metadata": {},
     "output_type": "execute_result"
    }
   ],
   "source": [
    "import numpy as np\n",
    "\n",
    "grid = [[3, 0, 6, 5, 0, 8, 4, 0, 0],\n",
    "        [5, 2, 0, 0, 0, 0, 0, 0, 0],\n",
    "        [0, 8, 7, 0, 0, 0, 0, 3, 1],\n",
    "        [0, 0, 3, 0, 1, 0, 0, 8, 0],\n",
    "        [9, 0, 0, 8, 6, 3, 0, 0, 5],\n",
    "        [0, 5, 0, 0, 9, 0, 6, 0, 0],\n",
    "        [1, 3, 0, 0, 0, 0, 2, 5, 0],\n",
    "        [0, 0, 0, 0, 0, 0, 0, 7, 4],\n",
    "        [0, 0, 5, 2, 0, 6, 3, 0, 0]]\n",
    "\n",
    "\n",
    "\n",
    "\n",
    "def availableSpace(x,y,n):\n",
    "    global grid\n",
    "    for i in range (9):\n",
    "        if grid[x][i] == n:\n",
    "            return False\n",
    "    for i in range (9):\n",
    "        if grid [i][y] == n:\n",
    "            return False\n",
    "    x0 = (x//3)*3\n",
    "    y0 = (y//3)*3\n",
    "    for i in range (3):\n",
    "        for j in range (3):\n",
    "            if grid[x0 + i][y0 + j] == n:\n",
    "                return False\n",
    "    return True\n",
    "\n",
    "availableSpace (1,0,9)\n",
    "            "
   ]
  },
  {
   "cell_type": "code",
   "execution_count": 2,
   "metadata": {},
   "outputs": [
    {
     "data": {
      "text/plain": [
       "0"
      ]
     },
     "execution_count": 2,
     "metadata": {},
     "output_type": "execute_result"
    }
   ],
   "source": [
    "1//3"
   ]
  },
  {
   "cell_type": "code",
   "execution_count": 3,
   "metadata": {},
   "outputs": [
    {
     "name": "stdout",
     "output_type": "stream",
     "text": [
      "[[3 1 6 5 7 8 4 9 2]\n",
      " [5 2 9 1 3 4 7 6 8]\n",
      " [4 8 7 6 2 9 5 3 1]\n",
      " [2 6 3 4 1 5 9 8 7]\n",
      " [9 7 4 8 6 3 1 2 5]\n",
      " [8 5 1 7 9 2 6 4 3]\n",
      " [1 3 8 9 4 7 2 5 6]\n",
      " [6 9 2 3 5 1 8 7 4]\n",
      " [7 4 5 2 8 6 3 1 9]]\n",
      "770\n"
     ]
    }
   ],
   "source": [
    "counter =0\n",
    "def solve ():\n",
    "    global counter\n",
    "    counter +=1\n",
    "    for x in range (9):\n",
    "        for y in range(9):\n",
    "            if grid[x][y] == 0:\n",
    "                for n in range (1,10):\n",
    "                    if availableSpace(x,y,n):\n",
    "                        grid[x][y] = n\n",
    "                        solve()\n",
    "                        grid[x][y] = 0\n",
    "                return   \n",
    "    print (np.matrix(grid))\n",
    "    print (counter)\n",
    "solve()\n",
    "\n",
    "                "
   ]
  },
  {
   "cell_type": "code",
   "execution_count": null,
   "metadata": {},
   "outputs": [],
   "source": []
  }
 ],
 "metadata": {
  "kernelspec": {
   "display_name": "Python 3.8.5 64-bit (conda)",
   "language": "python",
   "name": "python385jvsc74a57bd01e915f0a29dc84041eaeb02b7b1a21c440e37a87b61d44d5e84a515737dc82bc"
  },
  "language_info": {
   "codemirror_mode": {
    "name": "ipython",
    "version": 3
   },
   "file_extension": ".py",
   "mimetype": "text/x-python",
   "name": "python",
   "nbconvert_exporter": "python",
   "pygments_lexer": "ipython3",
   "version": "3.8.5"
  },
  "toc": {
   "base_numbering": 1,
   "nav_menu": {},
   "number_sections": true,
   "sideBar": true,
   "skip_h1_title": false,
   "title_cell": "Table of Contents",
   "title_sidebar": "Contents",
   "toc_cell": false,
   "toc_position": {},
   "toc_section_display": true,
   "toc_window_display": false
  }
 },
 "nbformat": 4,
 "nbformat_minor": 4
}
